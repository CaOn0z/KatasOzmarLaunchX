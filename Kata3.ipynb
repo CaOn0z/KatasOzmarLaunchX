{
 "cells": [
  {
   "cell_type": "markdown",
   "metadata": {},
   "source": [
    "# Logica Booleana\n",
    "### Ejercicio 1"
   ]
  },
  {
   "cell_type": "code",
   "execution_count": 8,
   "metadata": {},
   "outputs": [
    {
     "name": "stdout",
     "output_type": "stream",
     "text": [
      "Peligro un asteroide se acerca a grandes velocidades\n"
     ]
    }
   ],
   "source": [
    "asteroide = 49\n",
    "velPeligrosa = 25\n",
    "if asteroide > velPeligrosa:\n",
    "    print('Peligro un asteroide se acerca a grandes velocidades')\n",
    "else:\n",
    "    print('Todo tranquilo, sigue con tu dia')"
   ]
  },
  {
   "cell_type": "markdown",
   "metadata": {},
   "source": [
    "### Ejercicio2"
   ]
  },
  {
   "cell_type": "code",
   "execution_count": 11,
   "metadata": {},
   "outputs": [
    {
     "name": "stdout",
     "output_type": "stream",
     "text": [
      "Cielo despejado\n"
     ]
    }
   ],
   "source": [
    "asteroide = 19\n",
    "velPeligrosa = 20\n",
    "\n",
    "if asteroide > velPeligrosa:\n",
    "    print('Hay una Luz en el cielo!!')\n",
    "elif asteroide == velPeligrosa:\n",
    "    print('Hay una Luz en el Cielo!!')\n",
    "else:\n",
    "    print('Cielo despejado')"
   ]
  },
  {
   "cell_type": "markdown",
   "metadata": {},
   "source": [
    "### Ejercicio 3"
   ]
  },
  {
   "cell_type": "code",
   "execution_count": 12,
   "metadata": {},
   "outputs": [
    {
     "name": "stdout",
     "output_type": "stream",
     "text": [
      "Hay una Luz en el Cielo!!\n"
     ]
    }
   ],
   "source": [
    "asteroide = 25\n",
    "tamAsteroide = 40\n",
    "velPeligrosa = 25\n",
    "\n",
    "if asteroide > velPeligrosa and tamAsteroide > velPeligrosa:\n",
    "    print('Peligro un Asteroide se acerca a la Tierra!!!')\n",
    "elif asteroide >= 20:\n",
    "    print('Hay una Luz en el Cielo!!')\n",
    "elif tamAsteroide < velPeligrosa:\n",
    "    print('Cielo Despejado!')\n",
    "else:\n",
    "    print('Cielo Despejado!')"
   ]
  }
 ],
 "metadata": {
  "interpreter": {
   "hash": "5208ece860cd8f659edbc8d402425989a1be8cb2cbdc0b946175eff23c10f70c"
  },
  "kernelspec": {
   "display_name": "Python 3.10.2 64-bit",
   "language": "python",
   "name": "python3"
  },
  "language_info": {
   "codemirror_mode": {
    "name": "ipython",
    "version": 3
   },
   "file_extension": ".py",
   "mimetype": "text/x-python",
   "name": "python",
   "nbconvert_exporter": "python",
   "pygments_lexer": "ipython3",
   "version": "3.10.2"
  },
  "orig_nbformat": 4
 },
 "nbformat": 4,
 "nbformat_minor": 2
}
